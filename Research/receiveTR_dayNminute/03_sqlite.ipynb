{
 "cells": [
  {
   "cell_type": "markdown",
   "metadata": {},
   "source": [
    "### 주가 데이터\n",
    "- 기술적 분석:\n",
    "\n",
    "        가격과 거래량이 중요하며, 거래일 기준으로 시가, 고가, 저가, 종가, 거래량 등의 데이터가 사용됨\n",
    "\n",
    "- 기본적 분석 (기업의 내재적 가치를 분석해서 주가를 예측):\n",
    "\n",
    "        최근 몇 년 치의 기업 재무실적이나 PER, PBR, ROE 같은 기본적인 투자 지표에 대한 데이터가 사용됨\n",
    "\n",
    "### 틱 데이터\n",
    "데이터의 양이 많기 때문에 최근 거래일부터 일정 기간 동안의 데이터만 제공합니다.\n",
    "\n",
    "### SQLite\n",
    "SQLite을 통해 DBMS 사용법을 익힌 후 개발하려는 시스템의 규모에 따라 PostgreSQL, MYSQL 등을 사용하는 것을 추천"
   ]
  },
  {
   "cell_type": "code",
   "execution_count": 3,
   "metadata": {},
   "outputs": [
    {
     "name": "stdout",
     "output_type": "stream",
     "text": [
      "2.6.0\n",
      "3.38.3\n"
     ]
    }
   ],
   "source": [
    "import sqlite3\n",
    "print(sqlite3.version)\n",
    "print(sqlite3.sqlite_version)"
   ]
  },
  {
   "cell_type": "code",
   "execution_count": 9,
   "metadata": {},
   "outputs": [
    {
     "data": {
      "text/plain": [
       "sqlite3.Connection"
      ]
     },
     "execution_count": 9,
     "metadata": {},
     "output_type": "execute_result"
    }
   ],
   "source": [
    "con = sqlite3.connect(\"kiwoom.db\")\n",
    "type(con)"
   ]
  },
  {
   "cell_type": "markdown",
   "metadata": {},
   "source": [
    "sql 명령어를 호출하려면, cursor이라는 객체가 필요"
   ]
  },
  {
   "cell_type": "code",
   "execution_count": 10,
   "metadata": {},
   "outputs": [],
   "source": [
    "cursor = con.cursor()"
   ]
  },
  {
   "cell_type": "code",
   "execution_count": 17,
   "metadata": {},
   "outputs": [
    {
     "data": {
      "text/plain": [
       "<sqlite3.Cursor at 0x110b760>"
      ]
     },
     "execution_count": 17,
     "metadata": {},
     "output_type": "execute_result"
    }
   ],
   "source": [
    "cursor.execute(\"DROP TABLE kakao\")\n",
    "cursor.execute(\"CREATE TABLE kakao(Date text, Open int, High int, Low int, Closing int, Volumn int)\")\n",
    "cursor.execute(\"INSERT INTO kakao VALUES('16.06.03', 97000, 98600, 96900, 98000, 321405)\")\n",
    "cursor.execute(\"INSERT INTO kakao VALUES('16.06.02', 99000, 99300, 96300, 97500, 556790)\")"
   ]
  },
  {
   "cell_type": "code",
   "execution_count": 21,
   "metadata": {},
   "outputs": [],
   "source": [
    "# 작업한 내용을 실제로 데이터베이스에 반영\n",
    "con.commit()\n",
    "# DB 연결을 닫음\n",
    "con.close()"
   ]
  },
  {
   "cell_type": "code",
   "execution_count": 23,
   "metadata": {},
   "outputs": [],
   "source": [
    "con = sqlite3.connect(\"kiwoom.db\")\n",
    "cursor = con.cursor()"
   ]
  },
  {
   "cell_type": "code",
   "execution_count": 29,
   "metadata": {},
   "outputs": [
    {
     "data": {
      "text/plain": [
       "<sqlite3.Cursor at 0x12eb6a0>"
      ]
     },
     "execution_count": 29,
     "metadata": {},
     "output_type": "execute_result"
    }
   ],
   "source": [
    "cursor.execute(\"SELECT * FROM kakao\")"
   ]
  },
  {
   "cell_type": "code",
   "execution_count": 25,
   "metadata": {},
   "outputs": [
    {
     "data": {
      "text/plain": [
       "('16.06.03', 97000, 98600, 96900, 98000, 321405)"
      ]
     },
     "execution_count": 25,
     "metadata": {},
     "output_type": "execute_result"
    }
   ],
   "source": [
    "cursor.fetchone()"
   ]
  },
  {
   "cell_type": "code",
   "execution_count": 26,
   "metadata": {},
   "outputs": [
    {
     "data": {
      "text/plain": [
       "('16.06.02', 99000, 99300, 96300, 97500, 556790)"
      ]
     },
     "execution_count": 26,
     "metadata": {},
     "output_type": "execute_result"
    }
   ],
   "source": [
    "cursor.fetchone()"
   ]
  },
  {
   "cell_type": "code",
   "execution_count": 27,
   "metadata": {},
   "outputs": [],
   "source": [
    "cursor.fetchone()"
   ]
  },
  {
   "cell_type": "code",
   "execution_count": 33,
   "metadata": {},
   "outputs": [],
   "source": [
    "cursor.execute(\"SELECT * FROM kakao\")\n",
    "kakao = cursor.fetchall()"
   ]
  },
  {
   "cell_type": "code",
   "execution_count": 34,
   "metadata": {},
   "outputs": [
    {
     "data": {
      "text/plain": [
       "[('16.06.03', 97000, 98600, 96900, 98000, 321405),\n",
       " ('16.06.02', 99000, 99300, 96300, 97500, 556790)]"
      ]
     },
     "execution_count": 34,
     "metadata": {},
     "output_type": "execute_result"
    }
   ],
   "source": [
    "kakao"
   ]
  },
  {
   "cell_type": "code",
   "execution_count": null,
   "metadata": {},
   "outputs": [],
   "source": []
  }
 ],
 "metadata": {
  "kernelspec": {
   "display_name": "Python 3.8.13 ('AIFT2022')",
   "language": "python",
   "name": "python3"
  },
  "language_info": {
   "codemirror_mode": {
    "name": "ipython",
    "version": 3
   },
   "file_extension": ".py",
   "mimetype": "text/x-python",
   "name": "python",
   "nbconvert_exporter": "python",
   "pygments_lexer": "ipython3",
   "version": "3.8.13"
  },
  "orig_nbformat": 4,
  "vscode": {
   "interpreter": {
    "hash": "0a27c5ebec152789ea3ce4d4f8bbf956dd396bd25302156e0d286449572054d6"
   }
  }
 },
 "nbformat": 4,
 "nbformat_minor": 2
}
