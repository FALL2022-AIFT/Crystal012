{
 "cells": [
  {
   "cell_type": "code",
   "execution_count": 1,
   "metadata": {},
   "outputs": [],
   "source": [
    "import xml.etree.ElementTree as elemTree\n",
    "import os\n",
    "import sys\n",
    "tree = elemTree.parse(r'../AIFT2022_Wiki/config/.config.xml')\n",
    "root = tree.getroot()\n",
    "xx = root.find('./PATHS')\n",
    "work_path = xx.find('work').text\n",
    "sys.path.append(work_path)"
   ]
  },
  {
   "cell_type": "code",
   "execution_count": 2,
   "metadata": {},
   "outputs": [],
   "source": [
    "from miscs.config_manager import ConfigManager"
   ]
  },
  {
   "cell_type": "code",
   "execution_count": 3,
   "metadata": {},
   "outputs": [],
   "source": [
    "import talib\n",
    "import numpy as np\n",
    "import pandas as pd\n",
    "from sqlalchemy import create_engine\n",
    "from tqdm.auto import tqdm\n",
    "from realtime_kiwoom.data_provider import *\n",
    "import re\n",
    "import plotly.express as px"
   ]
  },
  {
   "cell_type": "code",
   "execution_count": 5,
   "metadata": {},
   "outputs": [],
   "source": [
    "cm = ConfigManager('../AIFT2022_Wiki/config/.config.xml')"
   ]
  },
  {
   "cell_type": "code",
   "execution_count": 6,
   "metadata": {},
   "outputs": [
    {
     "name": "stdout",
     "output_type": "stream",
     "text": [
      "C:\\Users\\이연주\\Desktop\\AIFT\\AIFT2022_Wiki\n",
      "{'database': 'db\\\\kiwoom_db.sqlite3'}\n",
      "{'history': {'table_name': 'data_in_minute', 'drop_table': False}, 'today': {'table_name': 'today_in_minute', 'drop_table': True}}\n",
      "[('069500', 'KONDEX 200', 'X'), ('114800', 'KODEX 인버스', 'Y')]\n"
     ]
    }
   ],
   "source": [
    "print(cm.get_work_path())\n",
    "print(cm.get_database())\n",
    "print(cm.get_tables())\n",
    "print(cm.retrieve_candidate_ETFs())"
   ]
  },
  {
   "cell_type": "code",
   "execution_count": 7,
   "metadata": {},
   "outputs": [],
   "source": [
    "# csv_paths = [ \n",
    "#   ('069500', r'..\\AIFT2022_Wiki\\data\\kodex_200.csv'),\n",
    "#   ('114800', r'..\\AIFT2022_Wiki\\data\\kodex_inverse.csv'),\n",
    "#   ('226490', r'..\\AIFT2022_Wiki\\data\\kodex_kospi.csv'),\n",
    "#   ('001', r'..\\AIFT2022_Wiki\\data\\kospi.csv'),\n",
    "#   ('201', r'..\\AIFT2022_Wiki\\data\\kospi200.csv')\n",
    "# ]"
   ]
  },
  {
   "cell_type": "markdown",
   "metadata": {},
   "source": [
    "# 일년치 분봉 데이터 (오늘 제외 = 어제까지의 데이터임)"
   ]
  },
  {
   "cell_type": "code",
   "execution_count": 8,
   "metadata": {},
   "outputs": [],
   "source": [
    "history_provider = MinuteChartDataProvider.Factory(cm, tag='history')"
   ]
  },
  {
   "cell_type": "code",
   "execution_count": 9,
   "metadata": {},
   "outputs": [
    {
     "name": "stdout",
     "output_type": "stream",
     "text": [
      "CPU times: total: 49.3 s\n",
      "Wall time: 49.6 s\n"
     ]
    }
   ],
   "source": [
    "%%time\n",
    "history_minute_dic = history_provider.get_history_from_ndays_ago(n_days=365)"
   ]
  },
  {
   "cell_type": "code",
   "execution_count": 10,
   "metadata": {},
   "outputs": [
    {
     "data": {
      "text/plain": [
       "{'069500':                           st_code   open   high    low  close  volume\n",
       " dt                                                                   \n",
       " 2021-11-15 09:00:00+09:00  069500  38459  38459  38435  38435   50144\n",
       " 2021-11-15 09:01:00+09:00  069500  38439  38464  38415  38449   23280\n",
       " 2021-11-15 09:02:00+09:00  069500  38454  38488  38454  38469   45724\n",
       " 2021-11-15 09:03:00+09:00  069500  38474  38503  38410  38410   37723\n",
       " 2021-11-15 09:04:00+09:00  069500  38415  38430  38390  38400   16784\n",
       " ...                           ...    ...    ...    ...    ...     ...\n",
       " 2022-11-11 15:17:00+09:00  069500  32375  32380  32365  32380   40137\n",
       " 2022-11-11 15:18:00+09:00  069500  32385  32385  32365  32370   34866\n",
       " 2022-11-11 15:19:00+09:00  069500  32365  32380  32365  32380    5633\n",
       " 2022-11-11 15:30:00+09:00  069500  32395  32395  32395  32395  111692\n",
       " 2022-11-11 15:35:00+09:00  069500  32395  32395  32395  32395    6403\n",
       " \n",
       " [93911 rows x 6 columns],\n",
       " '114800':                           st_code  open  high   low  close   volume\n",
       " dt                                                                 \n",
       " 2021-11-15 09:00:00+09:00  114800  4065  4075  4060   4075  3448046\n",
       " 2021-11-15 09:01:00+09:00  114800  4070  4075  4070   4070   347932\n",
       " 2021-11-15 09:02:00+09:00  114800  4070  4070  4065   4065   123257\n",
       " 2021-11-15 09:03:00+09:00  114800  4065  4075  4065   4070   301574\n",
       " 2021-11-15 09:04:00+09:00  114800  4075  4080  4070   4075   148952\n",
       " ...                           ...   ...   ...   ...    ...      ...\n",
       " 2022-11-11 15:17:00+09:00  114800  4720  4725  4720   4720     5298\n",
       " 2022-11-11 15:18:00+09:00  114800  4720  4725  4720   4725    25295\n",
       " 2022-11-11 15:19:00+09:00  114800  4725  4725  4720   4725   117254\n",
       " 2022-11-11 15:30:00+09:00  114800  4715  4715  4715   4715   780111\n",
       " 2022-11-11 15:35:00+09:00  114800  4715  4715  4715   4715    78962\n",
       " \n",
       " [93500 rows x 6 columns]}"
      ]
     },
     "execution_count": 10,
     "metadata": {},
     "output_type": "execute_result"
    }
   ],
   "source": [
    "history_minute_dic"
   ]
  },
  {
   "cell_type": "markdown",
   "metadata": {},
   "source": [
    "# 여러 수치 구하기"
   ]
  },
  {
   "cell_type": "code",
   "execution_count": 13,
   "metadata": {},
   "outputs": [],
   "source": [
    "def make_basic_features(df: pd.DataFrame):\n",
    "  \"\"\"\n",
    "  df가 변형됨\n",
    "  \"\"\"\n",
    "  ma = talib.MA(df['close'], timeperiod=30)\n",
    "  macd, macdsignal, macdhist = talib.MACD(df['close'])\n",
    "  rsi = talib.RSI(df['close'], timeperiod=14)\n",
    "  ad = talib.AD(df['high'], df['low'], df['close'], df['volume'])\n",
    "\n",
    "  df['ma'] = ma\n",
    "  df['macd'] = macd\n",
    "  df['macdsignal'] = macdsignal\n",
    "  df['macdhist'] = macdhist\n",
    "  df['rsi'] = rsi\n",
    "  df['ad'] = ad\n",
    "\n",
    "  df['offset_intra_day'] = ((df.index - df.index.floor('D') - pd.Timedelta('9h')).total_seconds()/(60*60*6.5)).values"
   ]
  },
  {
   "cell_type": "code",
   "execution_count": 14,
   "metadata": {},
   "outputs": [],
   "source": [
    "def make_window_features(df: pd.DataFrame, cols=['ma', 'macd', 'macdsignal', 'macdhist', 'rsi', 'ad'], window_size=10):\n",
    "  \"\"\"\n",
    "  df가 변형됨: 과거 윈도우 동안의 평균값대비 현재 값의 차이를 계산\n",
    "  \"\"\"\n",
    "  for col in cols:\n",
    "    prev_summary = df[col].rolling(window=window_size).mean().shift(1)\n",
    "    df[f'{col}_w'] = (df[col] - prev_summary)"
   ]
  },
  {
   "cell_type": "code",
   "execution_count": 15,
   "metadata": {},
   "outputs": [],
   "source": [
    "def make_binary_dt_features(df: pd.DataFrame):\n",
    "  \"\"\"\n",
    "  df가 변형됨\n",
    "  \"\"\"\n",
    "  ss = df.reset_index()\n",
    "  df['ts_end'] = ss.dt.shift(-1).apply(lambda x: x.hour == 9 and x.minute == 0).values\n",
    "  df['ts_start'] = ss.dt.apply(lambda x: x.hour == 9 and x.minute == 0).values"
   ]
  },
  {
   "cell_type": "code",
   "execution_count": 16,
   "metadata": {},
   "outputs": [],
   "source": [
    "def make_binary_close_indicators(df: pd.DataFrame):\n",
    "  \"\"\"\n",
    "  df가 변형됨\n",
    "  \"\"\"\n",
    "  daily_prev_close = df.groupby(df.index.strftime('%Y-%m-%d')).close.last().shift(1)\n",
    "  xx = pd.Series(df.index.strftime('%Y-%m-%d').map(daily_prev_close).values, index=df.index)\n",
    "  df['is_higher'] = xx < df.close\n",
    "  df.loc[xx.isna(), 'is_higher']=np.nan"
   ]
  },
  {
   "cell_type": "code",
   "execution_count": 17,
   "metadata": {},
   "outputs": [],
   "source": [
    "def make_binary_indicators(df: pd.DataFrame):\n",
    "  make_binary_dt_features(df)\n",
    "  make_binary_close_indicators(df)"
   ]
  },
  {
   "cell_type": "code",
   "execution_count": 18,
   "metadata": {},
   "outputs": [],
   "source": [
    "def make_target(df: pd.DataFrame, window_size=10):\n",
    "  \"\"\"\n",
    "  df가 변형됨\n",
    "  close의 내일 ~ window_size 까지의 가격 변화율을 target으로 함\n",
    "  \"\"\"\n",
    "  df['target'] = df.close.rolling(window=window_size).mean().shift(-window_size) /df.close"
   ]
  },
  {
   "cell_type": "code",
   "execution_count": 19,
   "metadata": {},
   "outputs": [],
   "source": [
    "for code, df in history_minute_dic.items():\n",
    "  make_basic_features(df)\n",
    "for code, df in history_minute_dic.items():\n",
    "  make_window_features(df)\n",
    "for code, df in history_minute_dic.items():\n",
    "  make_binary_indicators(df)\n",
    "for code, df in history_minute_dic.items():\n",
    "  make_target(df, window_size=60)"
   ]
  },
  {
   "cell_type": "code",
   "execution_count": 20,
   "metadata": {},
   "outputs": [],
   "source": [
    "window_size=60\n",
    "a0 = df.close\n",
    "a1 = df.close.rolling(window_size).mean().rename('ma')\n",
    "a2 = df.close.rolling(window_size).mean().shift(-window_size).rename('shifted')\n",
    "yy = pd.concat((a0, a1, a2), axis=1)[-200:]\n",
    "assert(yy.iloc[window_size].ma == yy.iloc[0].shifted)"
   ]
  },
  {
   "cell_type": "code",
   "execution_count": 21,
   "metadata": {},
   "outputs": [],
   "source": [
    "new_cols = ['ma_w', 'macd_w', 'macdsignal_w', 'macdhist_w', 'rsi_w', 'ad_w', \n",
    "            'ts_end', 'ts_start', 'is_higher', 'offset_intra_day', 'target']\n",
    "compact_minute_dic = {code:df[new_cols] for code, df in history_minute_dic.items()}\n",
    "merged_df = pd.merge(\n",
    "  compact_minute_dic['069500'], \n",
    "  compact_minute_dic['114800'], \n",
    "  left_index=True, \n",
    "  right_index=True, \n",
    "  suffixes=('_x', '_y')\n",
    "  )"
   ]
  },
  {
   "cell_type": "code",
   "execution_count": 22,
   "metadata": {},
   "outputs": [],
   "source": [
    "decision_up_threshold=0.0025\n",
    "decision_down_threshold=0.0020\n",
    "merged_df['label'] = 'NOP'\n",
    "merged_df.loc[(merged_df.target_x > 1 + decision_up_threshold) & (merged_df.target_y < 1 - decision_down_threshold), 'label'] = 'X'\n",
    "merged_df.loc[(merged_df.target_x < 1 - decision_down_threshold) & (merged_df.target_y > 1 + decision_up_threshold), 'label'] = 'Y'\n",
    "merged_df['label'] = merged_df.label.astype('category')"
   ]
  },
  {
   "cell_type": "code",
   "execution_count": 23,
   "metadata": {},
   "outputs": [],
   "source": [
    "merged_df = merged_df.shift(1)"
   ]
  },
  {
   "cell_type": "code",
   "execution_count": 24,
   "metadata": {},
   "outputs": [
    {
     "data": {
      "text/plain": [
       "NOP    0.806631\n",
       "Y      0.103899\n",
       "X      0.089470\n",
       "Name: label, dtype: float64"
      ]
     },
     "execution_count": 24,
     "metadata": {},
     "output_type": "execute_result"
    }
   ],
   "source": [
    "merged_df.label.value_counts(normalize=True)"
   ]
  },
  {
   "cell_type": "code",
   "execution_count": 25,
   "metadata": {},
   "outputs": [
    {
     "data": {
      "text/plain": [
       "NOP    75416\n",
       "Y       9714\n",
       "X       8365\n",
       "Name: label, dtype: int64"
      ]
     },
     "execution_count": 25,
     "metadata": {},
     "output_type": "execute_result"
    }
   ],
   "source": [
    "merged_df.label.value_counts(normalize=False)"
   ]
  },
  {
   "cell_type": "code",
   "execution_count": 26,
   "metadata": {},
   "outputs": [],
   "source": [
    "merged_df.to_pickle('.merged_for_baseline_df.pkl')\n",
    "merged_df = pd.read_pickle('.merged_for_baseline_df.pkl')"
   ]
  },
  {
   "cell_type": "code",
   "execution_count": null,
   "metadata": {},
   "outputs": [],
   "source": []
  }
 ],
 "metadata": {
  "kernelspec": {
   "display_name": "Python 3.8.13 ('AIFT2022')",
   "language": "python",
   "name": "python3"
  },
  "language_info": {
   "codemirror_mode": {
    "name": "ipython",
    "version": 3
   },
   "file_extension": ".py",
   "mimetype": "text/x-python",
   "name": "python",
   "nbconvert_exporter": "python",
   "pygments_lexer": "ipython3",
   "version": "3.8.13"
  },
  "orig_nbformat": 4,
  "vscode": {
   "interpreter": {
    "hash": "0a27c5ebec152789ea3ce4d4f8bbf956dd396bd25302156e0d286449572054d6"
   }
  }
 },
 "nbformat": 4,
 "nbformat_minor": 2
}
