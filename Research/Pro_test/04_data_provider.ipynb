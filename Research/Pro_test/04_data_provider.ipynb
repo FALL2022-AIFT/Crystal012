{
 "cells": [
  {
   "cell_type": "code",
   "execution_count": 2,
   "metadata": {},
   "outputs": [],
   "source": [
    "import xml.etree.ElementTree as elemTree\n",
    "import os\n",
    "import sys\n",
    "tree = elemTree.parse(r'../AIFT2022_Wiki/config/.config.xml')\n",
    "root = tree.getroot()\n",
    "xx = root.find('./PATHS')\n",
    "work_path = xx.find('work').text\n",
    "sys.path.append(work_path)"
   ]
  },
  {
   "cell_type": "code",
   "execution_count": 3,
   "metadata": {},
   "outputs": [],
   "source": [
    "from miscs.config_manager import ConfigManager"
   ]
  },
  {
   "cell_type": "code",
   "execution_count": 4,
   "metadata": {},
   "outputs": [],
   "source": [
    "import pandas as pd\n",
    "from sqlalchemy import create_engine\n",
    "from tqdm.auto import tqdm\n",
    "from realtime_kiwoom.data_provider import *\n",
    "import re"
   ]
  },
  {
   "cell_type": "code",
   "execution_count": 5,
   "metadata": {},
   "outputs": [],
   "source": [
    "cm = ConfigManager('../AIFT2022_Wiki/config/.config.xml')"
   ]
  },
  {
   "cell_type": "code",
   "execution_count": 6,
   "metadata": {},
   "outputs": [
    {
     "name": "stdout",
     "output_type": "stream",
     "text": [
      "C:\\Users\\이연주\\Desktop\\AIFT\\AIFT2022_Wiki\n",
      "{'database': 'db\\\\kiwoom_db.sqlite3'}\n",
      "{'history': {'table_name': 'data_in_minute', 'drop_table': False}, 'today': {'table_name': 'today_in_minute', 'drop_table': True}}\n",
      "[('069500', 'KONDEX 200', 'X'), ('114800', 'KODEX 인버스', 'Y')]\n"
     ]
    }
   ],
   "source": [
    "print(cm.get_work_path())\n",
    "print(cm.get_database())\n",
    "print(cm.get_tables())\n",
    "print(cm.retrieve_candidate_ETFs())"
   ]
  },
  {
   "cell_type": "code",
   "execution_count": 7,
   "metadata": {},
   "outputs": [],
   "source": [
    "csv_paths = [ \n",
    "  ('069500', r'..\\AIFT2022_Wiki\\data\\kodex_200.csv'),\n",
    "  ('114800', r'..\\AIFT2022_Wiki\\data\\kodex_inverse.csv'),\n",
    "  ('226490', r'..\\AIFT2022_Wiki\\data\\kodex_kospi.csv'),\n",
    "  ('001', r'..\\AIFT2022_Wiki\\data\\kospi.csv'),\n",
    "  ('201', r'..\\AIFT2022_Wiki\\data\\kospi200.csv')\n",
    "]"
   ]
  },
  {
   "cell_type": "code",
   "execution_count": 8,
   "metadata": {},
   "outputs": [],
   "source": [
    "table_info = cm.get_tables()"
   ]
  },
  {
   "cell_type": "markdown",
   "metadata": {},
   "source": [
    "# 일년치 분봉 데이터 (오늘 제외 = 어제까지의 데이터임)"
   ]
  },
  {
   "cell_type": "code",
   "execution_count": 9,
   "metadata": {},
   "outputs": [],
   "source": [
    "history_provider = MinuteChartDataProvider.Factory(cm, tag='history')"
   ]
  },
  {
   "cell_type": "code",
   "execution_count": 10,
   "metadata": {},
   "outputs": [
    {
     "name": "stdout",
     "output_type": "stream",
     "text": [
      "               dt\n",
      "0  20221111153500\n"
     ]
    }
   ],
   "source": [
    "last_dt = history_provider.query(f\"SELECT dt FROM {history_provider.table_name} WHERE st_code='069500' ORDER BY dt DESC LIMIT 1\")\n",
    "print(last_dt)"
   ]
  },
  {
   "cell_type": "code",
   "execution_count": 11,
   "metadata": {},
   "outputs": [],
   "source": [
    "history_minute_dic = history_provider.get_history_from_ndays_ago(n_days=365)\n"
   ]
  },
  {
   "cell_type": "code",
   "execution_count": 12,
   "metadata": {},
   "outputs": [],
   "source": [
    "history_df = history_minute_dic['069500']"
   ]
  },
  {
   "cell_type": "code",
   "execution_count": 13,
   "metadata": {},
   "outputs": [
    {
     "data": {
      "text/html": [
       "<div>\n",
       "<style scoped>\n",
       "    .dataframe tbody tr th:only-of-type {\n",
       "        vertical-align: middle;\n",
       "    }\n",
       "\n",
       "    .dataframe tbody tr th {\n",
       "        vertical-align: top;\n",
       "    }\n",
       "\n",
       "    .dataframe thead th {\n",
       "        text-align: right;\n",
       "    }\n",
       "</style>\n",
       "<table border=\"1\" class=\"dataframe\">\n",
       "  <thead>\n",
       "    <tr style=\"text-align: right;\">\n",
       "      <th></th>\n",
       "      <th>st_code</th>\n",
       "      <th>open</th>\n",
       "      <th>high</th>\n",
       "      <th>low</th>\n",
       "      <th>close</th>\n",
       "      <th>volume</th>\n",
       "    </tr>\n",
       "    <tr>\n",
       "      <th>dt</th>\n",
       "      <th></th>\n",
       "      <th></th>\n",
       "      <th></th>\n",
       "      <th></th>\n",
       "      <th></th>\n",
       "      <th></th>\n",
       "    </tr>\n",
       "  </thead>\n",
       "  <tbody>\n",
       "    <tr>\n",
       "      <th>2021-11-15 09:00:00+09:00</th>\n",
       "      <td>069500</td>\n",
       "      <td>38459</td>\n",
       "      <td>38459</td>\n",
       "      <td>38435</td>\n",
       "      <td>38435</td>\n",
       "      <td>50144</td>\n",
       "    </tr>\n",
       "    <tr>\n",
       "      <th>2021-11-15 09:01:00+09:00</th>\n",
       "      <td>069500</td>\n",
       "      <td>38439</td>\n",
       "      <td>38464</td>\n",
       "      <td>38415</td>\n",
       "      <td>38449</td>\n",
       "      <td>23280</td>\n",
       "    </tr>\n",
       "    <tr>\n",
       "      <th>2021-11-15 09:02:00+09:00</th>\n",
       "      <td>069500</td>\n",
       "      <td>38454</td>\n",
       "      <td>38488</td>\n",
       "      <td>38454</td>\n",
       "      <td>38469</td>\n",
       "      <td>45724</td>\n",
       "    </tr>\n",
       "    <tr>\n",
       "      <th>2021-11-15 09:03:00+09:00</th>\n",
       "      <td>069500</td>\n",
       "      <td>38474</td>\n",
       "      <td>38503</td>\n",
       "      <td>38410</td>\n",
       "      <td>38410</td>\n",
       "      <td>37723</td>\n",
       "    </tr>\n",
       "    <tr>\n",
       "      <th>2021-11-15 09:04:00+09:00</th>\n",
       "      <td>069500</td>\n",
       "      <td>38415</td>\n",
       "      <td>38430</td>\n",
       "      <td>38390</td>\n",
       "      <td>38400</td>\n",
       "      <td>16784</td>\n",
       "    </tr>\n",
       "    <tr>\n",
       "      <th>...</th>\n",
       "      <td>...</td>\n",
       "      <td>...</td>\n",
       "      <td>...</td>\n",
       "      <td>...</td>\n",
       "      <td>...</td>\n",
       "      <td>...</td>\n",
       "    </tr>\n",
       "    <tr>\n",
       "      <th>2022-11-11 15:17:00+09:00</th>\n",
       "      <td>069500</td>\n",
       "      <td>32375</td>\n",
       "      <td>32380</td>\n",
       "      <td>32365</td>\n",
       "      <td>32380</td>\n",
       "      <td>40137</td>\n",
       "    </tr>\n",
       "    <tr>\n",
       "      <th>2022-11-11 15:18:00+09:00</th>\n",
       "      <td>069500</td>\n",
       "      <td>32385</td>\n",
       "      <td>32385</td>\n",
       "      <td>32365</td>\n",
       "      <td>32370</td>\n",
       "      <td>34866</td>\n",
       "    </tr>\n",
       "    <tr>\n",
       "      <th>2022-11-11 15:19:00+09:00</th>\n",
       "      <td>069500</td>\n",
       "      <td>32365</td>\n",
       "      <td>32380</td>\n",
       "      <td>32365</td>\n",
       "      <td>32380</td>\n",
       "      <td>5633</td>\n",
       "    </tr>\n",
       "    <tr>\n",
       "      <th>2022-11-11 15:30:00+09:00</th>\n",
       "      <td>069500</td>\n",
       "      <td>32395</td>\n",
       "      <td>32395</td>\n",
       "      <td>32395</td>\n",
       "      <td>32395</td>\n",
       "      <td>111692</td>\n",
       "    </tr>\n",
       "    <tr>\n",
       "      <th>2022-11-11 15:35:00+09:00</th>\n",
       "      <td>069500</td>\n",
       "      <td>32395</td>\n",
       "      <td>32395</td>\n",
       "      <td>32395</td>\n",
       "      <td>32395</td>\n",
       "      <td>6403</td>\n",
       "    </tr>\n",
       "  </tbody>\n",
       "</table>\n",
       "<p>93911 rows × 6 columns</p>\n",
       "</div>"
      ],
      "text/plain": [
       "                          st_code   open   high    low  close  volume\n",
       "dt                                                                   \n",
       "2021-11-15 09:00:00+09:00  069500  38459  38459  38435  38435   50144\n",
       "2021-11-15 09:01:00+09:00  069500  38439  38464  38415  38449   23280\n",
       "2021-11-15 09:02:00+09:00  069500  38454  38488  38454  38469   45724\n",
       "2021-11-15 09:03:00+09:00  069500  38474  38503  38410  38410   37723\n",
       "2021-11-15 09:04:00+09:00  069500  38415  38430  38390  38400   16784\n",
       "...                           ...    ...    ...    ...    ...     ...\n",
       "2022-11-11 15:17:00+09:00  069500  32375  32380  32365  32380   40137\n",
       "2022-11-11 15:18:00+09:00  069500  32385  32385  32365  32370   34866\n",
       "2022-11-11 15:19:00+09:00  069500  32365  32380  32365  32380    5633\n",
       "2022-11-11 15:30:00+09:00  069500  32395  32395  32395  32395  111692\n",
       "2022-11-11 15:35:00+09:00  069500  32395  32395  32395  32395    6403\n",
       "\n",
       "[93911 rows x 6 columns]"
      ]
     },
     "execution_count": 13,
     "metadata": {},
     "output_type": "execute_result"
    }
   ],
   "source": [
    "history_df"
   ]
  },
  {
   "cell_type": "code",
   "execution_count": 14,
   "metadata": {},
   "outputs": [
    {
     "data": {
      "image/png": "[encoded data removed]",
      "text/plain": [
       "<Figure size 640x480 with 1 Axes>"
      ]
     },
     "metadata": {},
     "output_type": "display_data"
    }
   ],
   "source": [
    "if len(history_df) > 0:\n",
    "  history_df.plot(use_index=False, y='close')"
   ]
  },
  {
   "cell_type": "markdown",
   "metadata": {},
   "source": [
    "# 당일 분봉 데이터"
   ]
  },
  {
   "cell_type": "code",
   "execution_count": 15,
   "metadata": {},
   "outputs": [],
   "source": [
    "today_minute_provider = MinuteChartDataProvider.Factory(cm, tag='today')"
   ]
  },
  {
   "cell_type": "code",
   "execution_count": 16,
   "metadata": {},
   "outputs": [
    {
     "data": {
      "text/html": [
       "<div>\n",
       "<style scoped>\n",
       "    .dataframe tbody tr th:only-of-type {\n",
       "        vertical-align: middle;\n",
       "    }\n",
       "\n",
       "    .dataframe tbody tr th {\n",
       "        vertical-align: top;\n",
       "    }\n",
       "\n",
       "    .dataframe thead th {\n",
       "        text-align: right;\n",
       "    }\n",
       "</style>\n",
       "<table border=\"1\" class=\"dataframe\">\n",
       "  <thead>\n",
       "    <tr style=\"text-align: right;\">\n",
       "      <th></th>\n",
       "      <th>cnt</th>\n",
       "    </tr>\n",
       "  </thead>\n",
       "  <tbody>\n",
       "    <tr>\n",
       "      <th>0</th>\n",
       "      <td>0</td>\n",
       "    </tr>\n",
       "  </tbody>\n",
       "</table>\n",
       "</div>"
      ],
      "text/plain": [
       "   cnt\n",
       "0    0"
      ]
     },
     "execution_count": 16,
     "metadata": {},
     "output_type": "execute_result"
    }
   ],
   "source": [
    "today_minute_provider.query(f'select count(*) cnt from {today_minute_provider.table_name}')"
   ]
  },
  {
   "cell_type": "code",
   "execution_count": 17,
   "metadata": {},
   "outputs": [
    {
     "data": {
      "text/html": [
       "<div>\n",
       "<style scoped>\n",
       "    .dataframe tbody tr th:only-of-type {\n",
       "        vertical-align: middle;\n",
       "    }\n",
       "\n",
       "    .dataframe tbody tr th {\n",
       "        vertical-align: top;\n",
       "    }\n",
       "\n",
       "    .dataframe thead th {\n",
       "        text-align: right;\n",
       "    }\n",
       "</style>\n",
       "<table border=\"1\" class=\"dataframe\">\n",
       "  <thead>\n",
       "    <tr style=\"text-align: right;\">\n",
       "      <th></th>\n",
       "      <th>dt</th>\n",
       "    </tr>\n",
       "  </thead>\n",
       "  <tbody>\n",
       "  </tbody>\n",
       "</table>\n",
       "</div>"
      ],
      "text/plain": [
       "Empty DataFrame\n",
       "Columns: [dt]\n",
       "Index: []"
      ]
     },
     "execution_count": 17,
     "metadata": {},
     "output_type": "execute_result"
    }
   ],
   "source": [
    "today_minute_provider.query(f\"SELECT dt FROM {today_minute_provider.table_name} WHERE st_code='069500' ORDER BY dt DESC LIMIT 1\")"
   ]
  },
  {
   "cell_type": "code",
   "execution_count": 18,
   "metadata": {},
   "outputs": [],
   "source": [
    "# %%timeit\n",
    "# pd.to_datetime(df['체결시간'], format='%Y%m%d%H%M%S').dt.tz_localize('Asia/Seoul')"
   ]
  },
  {
   "cell_type": "code",
   "execution_count": 19,
   "metadata": {},
   "outputs": [
    {
     "data": {
      "application/vnd.jupyter.widget-view+json": {
       "model_id": "9edf52b9134b42d293d0534fa723568c",
       "version_major": 2,
       "version_minor": 0
      },
      "text/plain": [
       "  0%|          | 0/2 [00:00<?, ?it/s]"
      ]
     },
     "metadata": {},
     "output_type": "display_data"
    },
    {
     "name": "stdout",
     "output_type": "stream",
     "text": [
      "069500 97731 rows inserted\n",
      "114800 97313 rows inserted\n"
     ]
    }
   ],
   "source": [
    "for st_code, csv_path in tqdm(csv_paths[:2]):\n",
    "  df = pd.read_csv(csv_path, dtype={'체결시간':str})\n",
    "  num_inserted = today_minute_provider.insert_raw_dataframe_data(df, st_code)\n",
    "  print(f'{st_code} {num_inserted} rows inserted')"
   ]
  },
  {
   "cell_type": "code",
   "execution_count": 20,
   "metadata": {},
   "outputs": [],
   "source": [
    "today_minute_dic = today_minute_provider.get_history_from_ndays_ago(n_days=0)\n",
    "today_df = today_minute_dic['069500']"
   ]
  },
  {
   "cell_type": "code",
   "execution_count": 21,
   "metadata": {},
   "outputs": [],
   "source": [
    "if len(today_df) > 0:\n",
    "  today_df.plot(x='dt', y='close')"
   ]
  },
  {
   "cell_type": "markdown",
   "metadata": {},
   "source": [
    "# 실시간: 주식 체결데이터로부터 분봉 데이터 생성"
   ]
  },
  {
   "cell_type": "code",
   "execution_count": 44,
   "metadata": {},
   "outputs": [],
   "source": [
    "sample_file_path = r'..\\AIFT2022_Wiki\\today_069500_minute.txt'\n",
    "p = re.compile(r\".*([{]'code.*[}])\")\n",
    "rt_provider = RealTimeTickDataPrivder.Factory(cm)"
   ]
  },
  {
   "cell_type": "code",
   "execution_count": 47,
   "metadata": {},
   "outputs": [],
   "source": [
    "with open(sample_file_path, 'r', encoding='utf8') as f:\n",
    "  for line in f:\n",
    "    m = p.match(line)\n",
    "    if m:\n",
    "      # print(eval(m.group(1)))\n",
    "      rt_provider.insert_by_query(eval(m.group(1)))"
   ]
  },
  {
   "cell_type": "markdown",
   "metadata": {},
   "source": [
    "## 조회 쿼리"
   ]
  },
  {
   "cell_type": "markdown",
   "metadata": {},
   "source": [
    "현재 삽임된 레코드 수 (틱)"
   ]
  },
  {
   "cell_type": "code",
   "execution_count": 48,
   "metadata": {},
   "outputs": [
    {
     "data": {
      "text/html": [
       "<div>\n",
       "<style scoped>\n",
       "    .dataframe tbody tr th:only-of-type {\n",
       "        vertical-align: middle;\n",
       "    }\n",
       "\n",
       "    .dataframe tbody tr th {\n",
       "        vertical-align: top;\n",
       "    }\n",
       "\n",
       "    .dataframe thead th {\n",
       "        text-align: right;\n",
       "    }\n",
       "</style>\n",
       "<table border=\"1\" class=\"dataframe\">\n",
       "  <thead>\n",
       "    <tr style=\"text-align: right;\">\n",
       "      <th></th>\n",
       "      <th>cnt</th>\n",
       "    </tr>\n",
       "  </thead>\n",
       "  <tbody>\n",
       "    <tr>\n",
       "      <th>0</th>\n",
       "      <td>0</td>\n",
       "    </tr>\n",
       "  </tbody>\n",
       "</table>\n",
       "</div>"
      ],
      "text/plain": [
       "   cnt\n",
       "0    0"
      ]
     },
     "execution_count": 48,
     "metadata": {},
     "output_type": "execute_result"
    }
   ],
   "source": [
    "rt_provider.query(f'SELECT count(*) cnt FROM {rt_provider.table_name}')"
   ]
  },
  {
   "cell_type": "markdown",
   "metadata": {},
   "source": [
    "마지막 체결 시각 (틱)"
   ]
  },
  {
   "cell_type": "code",
   "execution_count": 49,
   "metadata": {},
   "outputs": [
    {
     "ename": "IndexError",
     "evalue": "list index out of range",
     "output_type": "error",
     "traceback": [
      "\u001b[1;31m---------------------------------------------------------------------------\u001b[0m",
      "\u001b[1;31mIndexError\u001b[0m                                Traceback (most recent call last)",
      "Cell \u001b[1;32mIn [49], line 1\u001b[0m\n\u001b[1;32m----> 1\u001b[0m rt_provider\u001b[39m.\u001b[39;49mrecent_inserted_ts()\n",
      "File \u001b[1;32mc:\\Users\\이연주\\Desktop\\AIFT\\AIFT2022_Wiki\\realtime_kiwoom\\data_provider.py:211\u001b[0m, in \u001b[0;36mRealTimeTickDataPrivder.recent_inserted_ts\u001b[1;34m(self)\u001b[0m\n\u001b[0;32m    207\u001b[0m query_string \u001b[39m=\u001b[39m \u001b[39mf\u001b[39m\u001b[39m'''\u001b[39m\n\u001b[0;32m    208\u001b[0m \u001b[39mSELECT dt FROM \u001b[39m\u001b[39m{\u001b[39;00m\u001b[39mself\u001b[39m\u001b[39m.\u001b[39mtable_name\u001b[39m}\u001b[39;00m\u001b[39m ORDER BY dt DESC LIMIT 1\u001b[39m\n\u001b[0;32m    209\u001b[0m \u001b[39m\u001b[39m\u001b[39m'''\u001b[39m\n\u001b[0;32m    210\u001b[0m \u001b[39mwith\u001b[39;00m \u001b[39mself\u001b[39m\u001b[39m.\u001b[39mengine\u001b[39m.\u001b[39mconnect() \u001b[39mas\u001b[39;00m connection:\n\u001b[1;32m--> 211\u001b[0m   hhmmss \u001b[39m=\u001b[39m connection\u001b[39m.\u001b[39;49mexecute(query_string)\u001b[39m.\u001b[39;49mfetchall()[\u001b[39m0\u001b[39;49m][\u001b[39m0\u001b[39m]\n\u001b[0;32m    212\u001b[0m \u001b[39mreturn\u001b[39;00m TimeManager\u001b[39m.\u001b[39mhhmmss_to_ts(hhmmss)\n",
      "\u001b[1;31mIndexError\u001b[0m: list index out of range"
     ]
    }
   ],
   "source": [
    "rt_provider.recent_inserted_ts()"
   ]
  },
  {
   "cell_type": "markdown",
   "metadata": {},
   "source": [
    "존재하는 테이블 조회"
   ]
  },
  {
   "cell_type": "code",
   "execution_count": 50,
   "metadata": {},
   "outputs": [
    {
     "data": {
      "text/html": [
       "<div>\n",
       "<style scoped>\n",
       "    .dataframe tbody tr th:only-of-type {\n",
       "        vertical-align: middle;\n",
       "    }\n",
       "\n",
       "    .dataframe tbody tr th {\n",
       "        vertical-align: top;\n",
       "    }\n",
       "\n",
       "    .dataframe thead th {\n",
       "        text-align: right;\n",
       "    }\n",
       "</style>\n",
       "<table border=\"1\" class=\"dataframe\">\n",
       "  <thead>\n",
       "    <tr style=\"text-align: right;\">\n",
       "      <th></th>\n",
       "      <th>name</th>\n",
       "    </tr>\n",
       "  </thead>\n",
       "  <tbody>\n",
       "    <tr>\n",
       "      <th>0</th>\n",
       "      <td>today_in_ticks</td>\n",
       "    </tr>\n",
       "  </tbody>\n",
       "</table>\n",
       "</div>"
      ],
      "text/plain": [
       "             name\n",
       "0  today_in_ticks"
      ]
     },
     "execution_count": 50,
     "metadata": {},
     "output_type": "execute_result"
    }
   ],
   "source": [
    "rt_provider.query('select name from sqlite_master where type=\"table\"')"
   ]
  },
  {
   "cell_type": "markdown",
   "metadata": {},
   "source": [
    "틱을 분봉으로 조회하는 쿼리"
   ]
  },
  {
   "cell_type": "code",
   "execution_count": 51,
   "metadata": {},
   "outputs": [],
   "source": [
    "real_minute_df = rt_provider.make_minute_chart_df()"
   ]
  },
  {
   "cell_type": "code",
   "execution_count": 52,
   "metadata": {},
   "outputs": [
    {
     "ename": "TypeError",
     "evalue": "no numeric data to plot",
     "output_type": "error",
     "traceback": [
      "\u001b[1;31m---------------------------------------------------------------------------\u001b[0m",
      "\u001b[1;31mTypeError\u001b[0m                                 Traceback (most recent call last)",
      "Cell \u001b[1;32mIn [52], line 1\u001b[0m\n\u001b[1;32m----> 1\u001b[0m real_minute_df\u001b[39m.\u001b[39;49mquery(\u001b[39m\"\u001b[39;49m\u001b[39mst_code==\u001b[39;49m\u001b[39m'\u001b[39;49m\u001b[39m069500\u001b[39;49m\u001b[39m'\u001b[39;49m\u001b[39m\"\u001b[39;49m)\u001b[39m.\u001b[39;49mplot(use_index\u001b[39m=\u001b[39;49m\u001b[39mFalse\u001b[39;49;00m, y\u001b[39m=\u001b[39;49m\u001b[39m'\u001b[39;49m\u001b[39mclose\u001b[39;49m\u001b[39m'\u001b[39;49m)\n",
      "File \u001b[1;32mc:\\Anaconda3\\envs\\AIFT2022\\lib\\site-packages\\pandas\\plotting\\_core.py:1000\u001b[0m, in \u001b[0;36mPlotAccessor.__call__\u001b[1;34m(self, *args, **kwargs)\u001b[0m\n\u001b[0;32m    997\u001b[0m             label_name \u001b[39m=\u001b[39m label_kw \u001b[39mor\u001b[39;00m data\u001b[39m.\u001b[39mcolumns\n\u001b[0;32m    998\u001b[0m             data\u001b[39m.\u001b[39mcolumns \u001b[39m=\u001b[39m label_name\n\u001b[1;32m-> 1000\u001b[0m \u001b[39mreturn\u001b[39;00m plot_backend\u001b[39m.\u001b[39;49mplot(data, kind\u001b[39m=\u001b[39;49mkind, \u001b[39m*\u001b[39;49m\u001b[39m*\u001b[39;49mkwargs)\n",
      "File \u001b[1;32mc:\\Anaconda3\\envs\\AIFT2022\\lib\\site-packages\\pandas\\plotting\\_matplotlib\\__init__.py:71\u001b[0m, in \u001b[0;36mplot\u001b[1;34m(data, kind, **kwargs)\u001b[0m\n\u001b[0;32m     69\u001b[0m         kwargs[\u001b[39m\"\u001b[39m\u001b[39max\u001b[39m\u001b[39m\"\u001b[39m] \u001b[39m=\u001b[39m \u001b[39mgetattr\u001b[39m(ax, \u001b[39m\"\u001b[39m\u001b[39mleft_ax\u001b[39m\u001b[39m\"\u001b[39m, ax)\n\u001b[0;32m     70\u001b[0m plot_obj \u001b[39m=\u001b[39m PLOT_CLASSES[kind](data, \u001b[39m*\u001b[39m\u001b[39m*\u001b[39mkwargs)\n\u001b[1;32m---> 71\u001b[0m plot_obj\u001b[39m.\u001b[39;49mgenerate()\n\u001b[0;32m     72\u001b[0m plot_obj\u001b[39m.\u001b[39mdraw()\n\u001b[0;32m     73\u001b[0m \u001b[39mreturn\u001b[39;00m plot_obj\u001b[39m.\u001b[39mresult\n",
      "File \u001b[1;32mc:\\Anaconda3\\envs\\AIFT2022\\lib\\site-packages\\pandas\\plotting\\_matplotlib\\core.py:450\u001b[0m, in \u001b[0;36mMPLPlot.generate\u001b[1;34m(self)\u001b[0m\n\u001b[0;32m    448\u001b[0m \u001b[39mdef\u001b[39;00m \u001b[39mgenerate\u001b[39m(\u001b[39mself\u001b[39m) \u001b[39m-\u001b[39m\u001b[39m>\u001b[39m \u001b[39mNone\u001b[39;00m:\n\u001b[0;32m    449\u001b[0m     \u001b[39mself\u001b[39m\u001b[39m.\u001b[39m_args_adjust()\n\u001b[1;32m--> 450\u001b[0m     \u001b[39mself\u001b[39;49m\u001b[39m.\u001b[39;49m_compute_plot_data()\n\u001b[0;32m    451\u001b[0m     \u001b[39mself\u001b[39m\u001b[39m.\u001b[39m_setup_subplots()\n\u001b[0;32m    452\u001b[0m     \u001b[39mself\u001b[39m\u001b[39m.\u001b[39m_make_plot()\n",
      "File \u001b[1;32mc:\\Anaconda3\\envs\\AIFT2022\\lib\\site-packages\\pandas\\plotting\\_matplotlib\\core.py:635\u001b[0m, in \u001b[0;36mMPLPlot._compute_plot_data\u001b[1;34m(self)\u001b[0m\n\u001b[0;32m    633\u001b[0m \u001b[39m# no non-numeric frames or series allowed\u001b[39;00m\n\u001b[0;32m    634\u001b[0m \u001b[39mif\u001b[39;00m is_empty:\n\u001b[1;32m--> 635\u001b[0m     \u001b[39mraise\u001b[39;00m \u001b[39mTypeError\u001b[39;00m(\u001b[39m\"\u001b[39m\u001b[39mno numeric data to plot\u001b[39m\u001b[39m\"\u001b[39m)\n\u001b[0;32m    637\u001b[0m \u001b[39mself\u001b[39m\u001b[39m.\u001b[39mdata \u001b[39m=\u001b[39m numeric_data\u001b[39m.\u001b[39mapply(\u001b[39mself\u001b[39m\u001b[39m.\u001b[39m_convert_to_ndarray)\n",
      "\u001b[1;31mTypeError\u001b[0m: no numeric data to plot"
     ]
    }
   ],
   "source": [
    "real_minute_df.query(\"st_code=='069500'\").plot(use_index=False, y='close')"
   ]
  },
  {
   "cell_type": "code",
   "execution_count": null,
   "metadata": {},
   "outputs": [],
   "source": [
    "import plotly.graph_objects as go"
   ]
  },
  {
   "cell_type": "code",
   "execution_count": null,
   "metadata": {},
   "outputs": [],
   "source": [
    "fig = go.Figure(data=[go.Candlestick(x=real_minute_df.query(\"st_code=='069500'\")['dt'],\n",
    "                open=real_minute_df.query(\"st_code=='069500'\")['open'],\n",
    "                high=real_minute_df.query(\"st_code=='069500'\")['high'],\n",
    "                low=real_minute_df.query(\"st_code=='069500'\")['low'],\n",
    "                close=real_minute_df.query(\"st_code=='069500'\")['close'])])\n",
    "fig.show()"
   ]
  },
  {
   "cell_type": "markdown",
   "metadata": {},
   "source": [
    "# 결합 테스트\n",
    "\n",
    "스태틱 소스\n",
    "- 어제까지 확보한 분봉 데이터 (TR 요청):: db/kiwoom_db.sqlite3:data_in_minute\n",
    "- 오늘 장중에 확보한 분봉 데이터 (TR 요청):: db/kiwoom_db.sqlite3:today_in_minute\n",
    "    - 장해 등으로 장중 (예: 11시)에 재접속 시 생성\n",
    "        - TR요청으로 수집 \n",
    "\n",
    "동적 소스\n",
    "- 오늘 실시간 틱 데이터:: 인메모리 디비:today_in_ticks\n",
    "- 오늘 틱 데이터로부터 생성한 분봉 데이터:: 인메모리 디비:today_in_minute \n",
    "\n",
    "결합\n",
    "- `정적저장소`:data_in_minute + today_in_minute + `인메모리`:today_in_minute"
   ]
  },
  {
   "cell_type": "code",
   "execution_count": 53,
   "metadata": {},
   "outputs": [
    {
     "ename": "NameError",
     "evalue": "name 'provider' is not defined",
     "output_type": "error",
     "traceback": [
      "\u001b[1;31m---------------------------------------------------------------------------\u001b[0m",
      "\u001b[1;31mNameError\u001b[0m                                 Traceback (most recent call last)",
      "Cell \u001b[1;32mIn [53], line 1\u001b[0m\n\u001b[1;32m----> 1\u001b[0m provider\u001b[39m.\u001b[39mquery(\u001b[39mf\u001b[39m\u001b[39m\"\u001b[39m\u001b[39mselect count(*) from \u001b[39m\u001b[39m{\u001b[39;00mprovider\u001b[39m.\u001b[39mtable_name\u001b[39m}\u001b[39;00m\u001b[39m\"\u001b[39m)\n",
      "\u001b[1;31mNameError\u001b[0m: name 'provider' is not defined"
     ]
    }
   ],
   "source": [
    "provider.query(f\"select count(*) from {provider.table_name}\")"
   ]
  },
  {
   "cell_type": "code",
   "execution_count": 54,
   "metadata": {},
   "outputs": [],
   "source": [
    "merged_df = pd.concat((history_df.query(\"st_code=='069500'\"),\n",
    "today_df.query('st_code==\"069500\"')), ignore_index=True)"
   ]
  },
  {
   "cell_type": "code",
   "execution_count": 55,
   "metadata": {},
   "outputs": [
    {
     "data": {
      "text/html": [
       "<div>\n",
       "<style scoped>\n",
       "    .dataframe tbody tr th:only-of-type {\n",
       "        vertical-align: middle;\n",
       "    }\n",
       "\n",
       "    .dataframe tbody tr th {\n",
       "        vertical-align: top;\n",
       "    }\n",
       "\n",
       "    .dataframe thead th {\n",
       "        text-align: right;\n",
       "    }\n",
       "</style>\n",
       "<table border=\"1\" class=\"dataframe\">\n",
       "  <thead>\n",
       "    <tr style=\"text-align: right;\">\n",
       "      <th></th>\n",
       "      <th>st_code</th>\n",
       "      <th>open</th>\n",
       "      <th>high</th>\n",
       "      <th>low</th>\n",
       "      <th>close</th>\n",
       "      <th>volume</th>\n",
       "    </tr>\n",
       "  </thead>\n",
       "  <tbody>\n",
       "    <tr>\n",
       "      <th>0</th>\n",
       "      <td>069500</td>\n",
       "      <td>38459</td>\n",
       "      <td>38459</td>\n",
       "      <td>38435</td>\n",
       "      <td>38435</td>\n",
       "      <td>50144</td>\n",
       "    </tr>\n",
       "    <tr>\n",
       "      <th>1</th>\n",
       "      <td>069500</td>\n",
       "      <td>38439</td>\n",
       "      <td>38464</td>\n",
       "      <td>38415</td>\n",
       "      <td>38449</td>\n",
       "      <td>23280</td>\n",
       "    </tr>\n",
       "    <tr>\n",
       "      <th>2</th>\n",
       "      <td>069500</td>\n",
       "      <td>38454</td>\n",
       "      <td>38488</td>\n",
       "      <td>38454</td>\n",
       "      <td>38469</td>\n",
       "      <td>45724</td>\n",
       "    </tr>\n",
       "    <tr>\n",
       "      <th>3</th>\n",
       "      <td>069500</td>\n",
       "      <td>38474</td>\n",
       "      <td>38503</td>\n",
       "      <td>38410</td>\n",
       "      <td>38410</td>\n",
       "      <td>37723</td>\n",
       "    </tr>\n",
       "    <tr>\n",
       "      <th>4</th>\n",
       "      <td>069500</td>\n",
       "      <td>38415</td>\n",
       "      <td>38430</td>\n",
       "      <td>38390</td>\n",
       "      <td>38400</td>\n",
       "      <td>16784</td>\n",
       "    </tr>\n",
       "  </tbody>\n",
       "</table>\n",
       "</div>"
      ],
      "text/plain": [
       "  st_code   open   high    low  close volume\n",
       "0  069500  38459  38459  38435  38435  50144\n",
       "1  069500  38439  38464  38415  38449  23280\n",
       "2  069500  38454  38488  38454  38469  45724\n",
       "3  069500  38474  38503  38410  38410  37723\n",
       "4  069500  38415  38430  38390  38400  16784"
      ]
     },
     "execution_count": 55,
     "metadata": {},
     "output_type": "execute_result"
    }
   ],
   "source": [
    "merged_df.head()"
   ]
  },
  {
   "cell_type": "markdown",
   "metadata": {},
   "source": [
    "## 의의로...  SQLite3 -> Pandas 로딩후 dt를 Timestamp 변환시 시간 걸림\n",
    "\n",
    "- 2000 행에 대해 요청시, 399ms 걸림"
   ]
  },
  {
   "cell_type": "code",
   "execution_count": 56,
   "metadata": {},
   "outputs": [
    {
     "ename": "KeyError",
     "evalue": "'dt'",
     "output_type": "error",
     "traceback": [
      "\u001b[1;31m---------------------------------------------------------------------------\u001b[0m",
      "\u001b[1;31mKeyError\u001b[0m                                  Traceback (most recent call last)",
      "File \u001b[1;32mc:\\Anaconda3\\envs\\AIFT2022\\lib\\site-packages\\pandas\\core\\indexes\\base.py:3803\u001b[0m, in \u001b[0;36mIndex.get_loc\u001b[1;34m(self, key, method, tolerance)\u001b[0m\n\u001b[0;32m   3802\u001b[0m \u001b[39mtry\u001b[39;00m:\n\u001b[1;32m-> 3803\u001b[0m     \u001b[39mreturn\u001b[39;00m \u001b[39mself\u001b[39;49m\u001b[39m.\u001b[39;49m_engine\u001b[39m.\u001b[39;49mget_loc(casted_key)\n\u001b[0;32m   3804\u001b[0m \u001b[39mexcept\u001b[39;00m \u001b[39mKeyError\u001b[39;00m \u001b[39mas\u001b[39;00m err:\n",
      "File \u001b[1;32mc:\\Anaconda3\\envs\\AIFT2022\\lib\\site-packages\\pandas\\_libs\\index.pyx:138\u001b[0m, in \u001b[0;36mpandas._libs.index.IndexEngine.get_loc\u001b[1;34m()\u001b[0m\n",
      "File \u001b[1;32mc:\\Anaconda3\\envs\\AIFT2022\\lib\\site-packages\\pandas\\_libs\\index.pyx:165\u001b[0m, in \u001b[0;36mpandas._libs.index.IndexEngine.get_loc\u001b[1;34m()\u001b[0m\n",
      "File \u001b[1;32mpandas\\_libs\\hashtable_class_helper.pxi:5745\u001b[0m, in \u001b[0;36mpandas._libs.hashtable.PyObjectHashTable.get_item\u001b[1;34m()\u001b[0m\n",
      "File \u001b[1;32mpandas\\_libs\\hashtable_class_helper.pxi:5753\u001b[0m, in \u001b[0;36mpandas._libs.hashtable.PyObjectHashTable.get_item\u001b[1;34m()\u001b[0m\n",
      "\u001b[1;31mKeyError\u001b[0m: 'dt'",
      "\nThe above exception was the direct cause of the following exception:\n",
      "\u001b[1;31mKeyError\u001b[0m                                  Traceback (most recent call last)",
      "Cell \u001b[1;32mIn [56], line 1\u001b[0m\n\u001b[1;32m----> 1\u001b[0m pd\u001b[39m.\u001b[39mto_datetime(merged_df[\u001b[39m-\u001b[39;49m\u001b[39m2000\u001b[39;49m:][\u001b[39m'\u001b[39;49m\u001b[39mdt\u001b[39;49m\u001b[39m'\u001b[39;49m], \u001b[39mformat\u001b[39m\u001b[39m=\u001b[39m\u001b[39m'\u001b[39m\u001b[39m%\u001b[39m\u001b[39mY\u001b[39m\u001b[39m%\u001b[39m\u001b[39mm\u001b[39m\u001b[39m%d\u001b[39;00m\u001b[39m%\u001b[39m\u001b[39mH\u001b[39m\u001b[39m%\u001b[39m\u001b[39mM\u001b[39m\u001b[39m%\u001b[39m\u001b[39mS\u001b[39m\u001b[39m'\u001b[39m)\n",
      "File \u001b[1;32mc:\\Anaconda3\\envs\\AIFT2022\\lib\\site-packages\\pandas\\core\\frame.py:3804\u001b[0m, in \u001b[0;36mDataFrame.__getitem__\u001b[1;34m(self, key)\u001b[0m\n\u001b[0;32m   3802\u001b[0m \u001b[39mif\u001b[39;00m \u001b[39mself\u001b[39m\u001b[39m.\u001b[39mcolumns\u001b[39m.\u001b[39mnlevels \u001b[39m>\u001b[39m \u001b[39m1\u001b[39m:\n\u001b[0;32m   3803\u001b[0m     \u001b[39mreturn\u001b[39;00m \u001b[39mself\u001b[39m\u001b[39m.\u001b[39m_getitem_multilevel(key)\n\u001b[1;32m-> 3804\u001b[0m indexer \u001b[39m=\u001b[39m \u001b[39mself\u001b[39;49m\u001b[39m.\u001b[39;49mcolumns\u001b[39m.\u001b[39;49mget_loc(key)\n\u001b[0;32m   3805\u001b[0m \u001b[39mif\u001b[39;00m is_integer(indexer):\n\u001b[0;32m   3806\u001b[0m     indexer \u001b[39m=\u001b[39m [indexer]\n",
      "File \u001b[1;32mc:\\Anaconda3\\envs\\AIFT2022\\lib\\site-packages\\pandas\\core\\indexes\\base.py:3805\u001b[0m, in \u001b[0;36mIndex.get_loc\u001b[1;34m(self, key, method, tolerance)\u001b[0m\n\u001b[0;32m   3803\u001b[0m     \u001b[39mreturn\u001b[39;00m \u001b[39mself\u001b[39m\u001b[39m.\u001b[39m_engine\u001b[39m.\u001b[39mget_loc(casted_key)\n\u001b[0;32m   3804\u001b[0m \u001b[39mexcept\u001b[39;00m \u001b[39mKeyError\u001b[39;00m \u001b[39mas\u001b[39;00m err:\n\u001b[1;32m-> 3805\u001b[0m     \u001b[39mraise\u001b[39;00m \u001b[39mKeyError\u001b[39;00m(key) \u001b[39mfrom\u001b[39;00m \u001b[39merr\u001b[39;00m\n\u001b[0;32m   3806\u001b[0m \u001b[39mexcept\u001b[39;00m \u001b[39mTypeError\u001b[39;00m:\n\u001b[0;32m   3807\u001b[0m     \u001b[39m# If we have a listlike key, _check_indexing_error will raise\u001b[39;00m\n\u001b[0;32m   3808\u001b[0m     \u001b[39m#  InvalidIndexError. Otherwise we fall through and re-raise\u001b[39;00m\n\u001b[0;32m   3809\u001b[0m     \u001b[39m#  the TypeError.\u001b[39;00m\n\u001b[0;32m   3810\u001b[0m     \u001b[39mself\u001b[39m\u001b[39m.\u001b[39m_check_indexing_error(key)\n",
      "\u001b[1;31mKeyError\u001b[0m: 'dt'"
     ]
    }
   ],
   "source": [
    "pd.to_datetime(merged_df[-2000:]['dt'], format='%Y%m%d%H%M%S')"
   ]
  },
  {
   "cell_type": "markdown",
   "metadata": {},
   "source": [
    "작전\n",
    "- 장시작전: 어제까지의 분봉 데이터는 SQL -> pd.DataFrame 변환 해 둔다. (DataProvider 역할)\n",
    "- 장중: 오늘의 분봉 데이터를 SQlite3 -> pd.DataFrame 변환한다. (DataProvider 역할)\n",
    "- 합친다."
   ]
  }
 ],
 "metadata": {
  "kernelspec": {
   "display_name": "Python 3.8.13 ('AIFT2022')",
   "language": "python",
   "name": "python3"
  },
  "language_info": {
   "codemirror_mode": {
    "name": "ipython",
    "version": 3
   },
   "file_extension": ".py",
   "mimetype": "text/x-python",
   "name": "python",
   "nbconvert_exporter": "python",
   "pygments_lexer": "ipython3",
   "version": "3.8.13"
  },
  "orig_nbformat": 4,
  "vscode": {
   "interpreter": {
    "hash": "0a27c5ebec152789ea3ce4d4f8bbf956dd396bd25302156e0d286449572054d6"
   }
  }
 },
 "nbformat": 4,
 "nbformat_minor": 2
}
