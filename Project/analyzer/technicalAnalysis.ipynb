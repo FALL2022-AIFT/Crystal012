{
 "cells": [
  {
   "cell_type": "code",
   "execution_count": null,
   "metadata": {},
   "outputs": [],
   "source": [
    "import pandas_datareader.data as web\n",
    "import datetime\n",
    "import matplotlib.pyplot as plt"
   ]
  },
  {
   "cell_type": "code",
   "execution_count": null,
   "metadata": {},
   "outputs": [],
   "source": [
    "# Get SS Data from Yahoo\n",
    "ss = web.DataReader(\"005930.KS\", \"yahoo\", \"2020-01-01\", \"2022-12-01\")\n",
    "new_ss = ss[ss['Volume'] !=0]\n",
    "\n",
    "# Moving average\n",
    "ma5 = new_ss['Adj Close'].rolling(window=5).mean()\n",
    "ma20 = new_ss['Adj Close'].rolling(window=20).mean()\n",
    "ma60 = new_ss['Adj Close'].rolling(window=60).mean()\n",
    "ma120 = new_ss['Adj Close'].rolling(window=120).mean()\n",
    "\n",
    "# Insert columns\n",
    "new_ss.insert(len(new_ss.columns), \"MA5\", ma5)\n",
    "new_ss.insert(len(new_ss.columns), \"MA20\", ma20)\n",
    "new_ss.insert(len(new_ss.columns), \"MA60\", ma60)\n",
    "new_ss.insert(len(new_ss.columns), \"MA120\", ma120)"
   ]
  },
  {
   "cell_type": "code",
   "execution_count": null,
   "metadata": {},
   "outputs": [],
   "source": [
    "# Plot\n",
    "plt.plot(new_ss.index, new_ss['Adj Close'], label=\"Adj Close\")\n",
    "\n",
    "plt.plot(new_ss.index, new_ss['MA5'], label=\"MA5\")\n",
    "plt.plot(new_ss.index, new_ss['MA20'], label=\"MA20\")\n",
    "plt.plot(new_ss.index, new_ss['MA60'], label=\"MA60\")\n",
    "plt.plot(new_ss.index, new_ss['MA120'], label=\"MA120\")\n",
    "\n",
    "plt.legend(loc='best')\n",
    "plt.grid()\n",
    "plt.show()"
   ]
  }
 ],
 "metadata": {
  "kernelspec": {
   "display_name": "base",
   "language": "python",
   "name": "python3"
  },
  "language_info": {
   "name": "python",
   "version": "3.9.13 (main, Aug 25 2022, 23:51:50) [MSC v.1916 64 bit (AMD64)]"
  },
  "orig_nbformat": 4,
  "vscode": {
   "interpreter": {
    "hash": "e4cce46d6be9934fbd27f9ca0432556941ea5bdf741d4f4d64c6cd7f8dfa8fba"
   }
  }
 },
 "nbformat": 4,
 "nbformat_minor": 2
}
